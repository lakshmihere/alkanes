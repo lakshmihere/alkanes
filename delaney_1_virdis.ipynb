{
 "cells": [
  {
   "cell_type": "code",
   "execution_count": 2,
   "id": "18eb0ea5-f43e-4187-9ea5-2240a82be668",
   "metadata": {},
   "outputs": [],
   "source": [
    "import deepchem as dc\n",
    "from deepchem.models import DMPNNModel"
   ]
  },
  {
   "cell_type": "code",
   "execution_count": 3,
   "id": "16d0749a-58bf-484a-9b13-f2905d1a0d7c",
   "metadata": {},
   "outputs": [],
   "source": [
    "import pandas as pd\n",
    "import numpy as np\n",
    "import matplotlib as plt\n",
    "import rdkit\n",
    "import os\n",
    "import sys"
   ]
  },
  {
   "cell_type": "code",
   "execution_count": 4,
   "id": "864b99c3-e4a7-4685-9dd7-b3537f42d169",
   "metadata": {},
   "outputs": [
    {
     "name": "stdout",
     "output_type": "stream",
     "text": [
      "Requirement already satisfied: pubchempy in ./miniconda3/envs/deepchem/lib/python3.11/site-packages (1.0.4)\n",
      "Note: you may need to restart the kernel to use updated packages.\n"
     ]
    }
   ],
   "source": [
    "pip install pubchempy"
   ]
  },
  {
   "cell_type": "code",
   "execution_count": 5,
   "id": "f841db20-b476-4f92-a6de-d6c1e1177729",
   "metadata": {},
   "outputs": [],
   "source": [
    "import pubchempy as pcp\n",
    "import torch\n",
    "import torch.nn as nn\n",
    "\n",
    "from torch_geometric.data import Data, Batch\n",
    "from deepchem.models.torch_models import layers\n",
    "from deepchem.feat import GraphData\n",
    "import deepchem.models.torch_models.layers as torch_layers\n",
    "from deepchem.models.torch_models.dmpnn import _MapperDMPNN\n",
    "from deepchem.models.torch_models import DMPNN\n",
    "from deepchem.models.torch_models import DMPNNModel\n",
    "\n",
    "from typing import Union, List, Sequence, Optional"
   ]
  },
  {
   "cell_type": "code",
   "execution_count": 6,
   "id": "40cbb601-fe1b-41ab-b84c-e5ce3772d693",
   "metadata": {},
   "outputs": [],
   "source": [
    "# Load delaney dataset\n",
    "#delaney_tasks, delaney_datasets, transformers = dc.molnet.load_delaney(featurizer=dc.feat.DMPNNFeaturizer(features_generators=[\"rdkit_desc_normalized\"]), splitter='scaffold')"
   ]
  },
  {
   "cell_type": "code",
   "execution_count": 6,
   "id": "6e68f498-2880-4549-8e65-975e3c1e424d",
   "metadata": {},
   "outputs": [],
   "source": [
    "target_df = pd.read_csv('virdis_solu_final_5.csv')\n",
    "smiles = target_df['smiles'].values\n",
    "smiles = smiles.astype(str)"
   ]
  },
  {
   "cell_type": "code",
   "execution_count": 7,
   "id": "2f52a93d-8a10-4705-944b-76755dfff707",
   "metadata": {},
   "outputs": [
    {
     "name": "stdout",
     "output_type": "stream",
     "text": [
      "2674\n"
     ]
    }
   ],
   "source": [
    "#delaney_tasks\n",
    "featurizer = dc.feat.DMPNNFeaturizer(features_generators=[\"rdkit_desc_normalized\"])\n",
    "X = featurizer.featurize(smiles)\n",
    "print(len(X))"
   ]
  },
  {
   "cell_type": "code",
   "execution_count": 8,
   "id": "50ffc523-83af-47aa-8a00-889ae39b547f",
   "metadata": {},
   "outputs": [
    {
     "name": "stdout",
     "output_type": "stream",
     "text": [
      "2674\n"
     ]
    }
   ],
   "source": [
    "target_values = target_df['log_sol'].values\n",
    "target_values = target_values.astype('float64')\n",
    "print(len(target_values)) #y"
   ]
  },
  {
   "cell_type": "code",
   "execution_count": 9,
   "id": "bfd4cb94-f2d3-4510-86ef-cad2c528a4ab",
   "metadata": {},
   "outputs": [
    {
     "name": "stdout",
     "output_type": "stream",
     "text": [
      "1\n"
     ]
    }
   ],
   "source": [
    "task_1 = ['log_sol']\n",
    "print(len(task_1))"
   ]
  },
  {
   "cell_type": "code",
   "execution_count": 10,
   "id": "049035f6-86ab-42cd-980e-18bf0a7e5ec6",
   "metadata": {},
   "outputs": [
    {
     "name": "stdout",
     "output_type": "stream",
     "text": [
      "1\n",
      "dataset is featurized\n"
     ]
    }
   ],
   "source": [
    "dataset=dc.data.DiskDataset.from_numpy(X=X, y=target_values, ids=smiles, tasks=['log_sol'])\n",
    "splitter = dc.splits.RandomSplitter()\n",
    "train_dataset, valid_dataset, test_dataset = splitter.train_valid_test_split(dataset, frac_train=0.8, frac_valid = 0.1, seed=0)\n",
    "transformers = [dc.trans.NormalizationTransformer(transform_y=True, dataset=train_dataset)]\n",
    "print(len(transformers))\n",
    "for dataset in [train_dataset, valid_dataset, test_dataset]:\n",
    "  for transformer in transformers:\n",
    "            dataset = transformer.transform(dataset)\n",
    "# transformers_1 = [dc.trans.NormalizationTransformer(transform_y=True, dataset=train_dataset)]\n",
    "# transformers_2 = [dc.trans.NormalizationTransformer(transform_y=True, dataset=valid_dataset)]\n",
    "# transformers_3 = [dc.trans.NormalizationTransformer(transform_y=True, dataset=test_dataset)]\n",
    "print('dataset is featurized')"
   ]
  },
  {
   "cell_type": "code",
   "execution_count": 11,
   "id": "de6f52d0-0bcf-489d-acf4-0d2e65a98b36",
   "metadata": {},
   "outputs": [],
   "source": [
    "#train_dataset, valid_dataset, test_dataset = delaney_datasets"
   ]
  },
  {
   "cell_type": "code",
   "execution_count": 12,
   "id": "2c63f17e-7745-46aa-940a-ba467d61fe78",
   "metadata": {},
   "outputs": [
    {
     "name": "stdout",
     "output_type": "stream",
     "text": [
      "2139 267 268\n",
      "[GraphData(node_features=[8, 133], edge_index=[2, 16], edge_features=[16, 14], global_features=[200])\n",
      " GraphData(node_features=[16, 133], edge_index=[2, 32], edge_features=[32, 14], global_features=[200])\n",
      " GraphData(node_features=[4, 133], edge_index=[2, 6], edge_features=[6, 14], global_features=[200])\n",
      " GraphData(node_features=[18, 133], edge_index=[2, 42], edge_features=[42, 14], global_features=[200])\n",
      " GraphData(node_features=[8, 133], edge_index=[2, 16], edge_features=[16, 14], global_features=[200])]\n"
     ]
    }
   ],
   "source": [
    "# Assess featurized data\n",
    "print(len(train_dataset), len(valid_dataset), len(test_dataset))\n",
    "print(train_dataset.X[:5])"
   ]
  },
  {
   "cell_type": "code",
   "execution_count": 13,
   "id": "df44d4c3-aaad-4cb8-90d2-3a6afb4f09b9",
   "metadata": {},
   "outputs": [],
   "source": [
    "# Initialise the model\n",
    "model = DMPNNModel(n_tasks = len(task_1), \\\n",
    "                   n_classes = len(train_dataset.X), \\\n",
    "                   mode='regression', \\\n",
    "                   batch_size=50, \\\n",
    "                   global_features_size=200)"
   ]
  },
  {
   "cell_type": "code",
   "execution_count": 14,
   "id": "912dd8be-f2e7-4baa-8949-711aa1c237b7",
   "metadata": {},
   "outputs": [
    {
     "name": "stdout",
     "output_type": "stream",
     "text": [
      "Training model...\n"
     ]
    },
    {
     "data": {
      "text/plain": [
       "0.5248867034912109"
      ]
     },
     "execution_count": 14,
     "metadata": {},
     "output_type": "execute_result"
    }
   ],
   "source": [
    "# Model training\n",
    "print(\"Training model...\")\n",
    "model.fit(train_dataset, nb_epoch=10)"
   ]
  },
  {
   "cell_type": "code",
   "execution_count": 15,
   "id": "957a96bc-0acd-4368-97e3-a34527c629bd",
   "metadata": {},
   "outputs": [],
   "source": [
    "# Model evaluation\n",
    "metric = dc.metrics.Metric(dc.metrics.roc_auc_score, np.mean)"
   ]
  },
  {
   "cell_type": "code",
   "execution_count": 16,
   "id": "f6a83d2d-5c6c-4697-939d-bfd188badf4f",
   "metadata": {},
   "outputs": [
    {
     "name": "stdout",
     "output_type": "stream",
     "text": [
      "268\n",
      "268\n",
      "1\n"
     ]
    }
   ],
   "source": [
    "prediction = model.predict(test_dataset)\n",
    "print(len(test_dataset.y))\n",
    "print(len(prediction))\n",
    "print(len(prediction[1]))\n"
   ]
  },
  {
   "cell_type": "code",
   "execution_count": 17,
   "id": "10ee2861-977e-4ca5-b0d4-1d0c83162feb",
   "metadata": {},
   "outputs": [
    {
     "data": {
      "text/plain": [
       "Text(0.5, 1.0, 'DMPNN')"
      ]
     },
     "execution_count": 17,
     "metadata": {},
     "output_type": "execute_result"
    },
    {
     "data": {
      "image/png": "[encoded data removed]",
      "text/plain": [
       "<Figure size 500x500 with 1 Axes>"
      ]
     },
     "metadata": {},
     "output_type": "display_data"
    }
   ],
   "source": [
    "import matplotlib.pyplot as plt\n",
    "import numpy as np\n",
    "\n",
    "plt.figure(figsize=(5,5))\n",
    "plt.scatter(x=test_dataset.y, y=prediction, alpha=0.3)\n",
    "plt.plot((test_dataset.y), (test_dataset.y), color = 'red')\n",
    "plt.ylabel('Predict LogS')\n",
    "plt.xlabel('Experimental LogS')\n",
    "plt.title(\"DMPNN\")"
   ]
  },
  {
   "cell_type": "code",
   "execution_count": 18,
   "id": "fe3dab5b-f156-4a48-9dd3-e697de3e12b1",
   "metadata": {},
   "outputs": [],
   "source": [
    "# print(\"Evaluating model->\")\n",
    "# train_scores = model.evaluate(train_dataset, [metric], transformers)\n",
    "# valid_scores = model.evaluate(valid_dataset, [metric], transformers)\n",
    "# test_scores = model.evaluate(test_dataset, [metric], transformers)"
   ]
  }
 ],
 "metadata": {
  "kernelspec": {
   "display_name": "Python 3 (ipykernel)",
   "language": "python",
   "name": "python3"
  },
  "language_info": {
   "codemirror_mode": {
    "name": "ipython",
    "version": 3
   },
   "file_extension": ".py",
   "mimetype": "text/x-python",
   "name": "python",
   "nbconvert_exporter": "python",
   "pygments_lexer": "ipython3",
   "version": "3.11.11"
  }
 },
 "nbformat": 4,
 "nbformat_minor": 5
}
