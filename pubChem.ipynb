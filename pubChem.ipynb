{
 "cells": [
  {
   "cell_type": "code",
   "execution_count": 1,
   "id": "ed73b378-d5b1-4254-aeb4-dfd7dabe6504",
   "metadata": {},
   "outputs": [
    {
     "name": "stdout",
     "output_type": "stream",
     "text": [
      "Requirement already satisfied: pubchempy in /usr/local/lib/python3.10/dist-packages (1.0.4)\n",
      "\u001b[33mWARNING: Running pip as the 'root' user can result in broken permissions and conflicting behaviour with the system package manager. It is recommended to use a virtual environment instead: https://pip.pypa.io/warnings/venv\u001b[0m\u001b[33m\n",
      "Note: you may need to restart the kernel to use updated packages.\n"
     ]
    }
   ],
   "source": [
    "pip install pubchempy"
   ]
  },
  {
   "cell_type": "markdown",
   "id": "fc7d443e-0132-4c91-b2c0-4c3c2e8f3b92",
   "metadata": {},
   "source": [
    "#### 1.Importing Required Libraries"
   ]
  },
  {
   "cell_type": "code",
   "execution_count": 2,
   "id": "3b303f3c-6df9-41a6-b213-128fc2e1e60e",
   "metadata": {},
   "outputs": [],
   "source": [
    "import pubchempy as pcp\n",
    "import pandas as pd\n",
    "import numpy as np"
   ]
  },
  {
   "cell_type": "markdown",
   "id": "9a57eac5-38c0-4b6e-81a3-704836f8e867",
   "metadata": {},
   "source": [
    "#### 2. Example Implementations:"
   ]
  },
  {
   "cell_type": "code",
   "execution_count": null,
   "id": "45c46725-e849-4f7d-bfba-45cd891d574a",
   "metadata": {},
   "outputs": [],
   "source": [
    "# Example 1\n",
    "c = pcp.Compound.from_cid(5090)\n",
    "print ('IUPAC Name: ', c.iupac_name)\n",
    "print ('Molecular Formula: ', c.molecular_formula)\n",
    "print ('xLogP: ',c.xlogp)\n",
    "print ('Molecular Weight: ', c.molecular_weight)\n",
    "print ('Isomeric SMILES: ', c.isomeric_smiles)"
   ]
  },
  {
   "cell_type": "code",
   "execution_count": 2,
   "id": "2c69550f-514e-4282-b221-b0dc1bedecd8",
   "metadata": {},
   "outputs": [
    {
     "name": "stdout",
     "output_type": "stream",
     "text": [
      "IUPAC Name:  3-(4-methylsulfonylphenyl)-4-phenyl-2H-furan-5-one\n",
      "Molecular Formula:  C17H14O4S\n",
      "xLogP:  2.3\n",
      "Molecular Weight:  314.4\n",
      "Isomeric SMILES:  CS(=O)(=O)C1=CC=C(C=C1)C2=C(C(=O)OC2)C3=CC=CC=C3\n"
     ]
    }
   ],
   "source": [
    "# Example 2\n",
    "List_of_Chemicals = ['benzene', 'toluene', '2-nonenal']\n",
    "\n",
    "for chemical_name in List_of_Chemicals:\n",
    "\n",
    "    cid=pcp.get_cids(chemical_name)\n",
    "    prop = pcp.get_properties('CanonicalSMILES', cid)\n",
    "    print (chemical_name + ' ' + str(prop))"
   ]
  },
  {
   "cell_type": "markdown",
   "id": "bd1d9ac6-d678-4fa3-a75c-dcaf2e11d0d3",
   "metadata": {},
   "source": [
    "#### 3. Exploratory Data Analysis"
   ]
  },
  {
   "cell_type": "code",
   "execution_count": 5,
   "id": "fd596b9b-7e81-4e28-869b-f58be4689c17",
   "metadata": {},
   "outputs": [
    {
     "name": "stdout",
     "output_type": "stream",
     "text": [
      "   pubchem_cid          chemical_name  exp_double_value\n",
      "0          790           hypoxanthine             700.0\n",
      "1         2474            Bupivacaine              91.7\n",
      "2         4062            mepivacaine            7000.0\n",
      "3         4421         nalidixic acid             100.0\n",
      "4         4649  4-Aminosalicylic acid            1690.0\n"
     ]
    }
   ],
   "source": [
    "df = pd.read_csv('viridis_solu.csv')\n",
    "new = df.head()\n",
    "print(new)"
   ]
  },
  {
   "cell_type": "code",
   "execution_count": 6,
   "id": "d1a922cd-7e53-4ae0-ba77-0a4aa402e228",
   "metadata": {},
   "outputs": [
    {
     "data": {
      "text/plain": [
       "3801"
      ]
     },
     "execution_count": 6,
     "metadata": {},
     "output_type": "execute_result"
    }
   ],
   "source": [
    "len(df)"
   ]
  },
  {
   "cell_type": "code",
   "execution_count": 7,
   "id": "b021c5ed-82d6-4fa7-9cc0-3c6aaf96bb41",
   "metadata": {},
   "outputs": [
    {
     "name": "stdout",
     "output_type": "stream",
     "text": [
      "      pubchem_cid          chemical_name  exp_double_value\n",
      "0             790           hypoxanthine           700.000\n",
      "1            2474            Bupivacaine            91.700\n",
      "2            4062            mepivacaine          7000.000\n",
      "3            4421         nalidixic acid           100.000\n",
      "4            4649  4-Aminosalicylic acid          1690.000\n",
      "...           ...                    ...               ...\n",
      "3796      2758725           Dithiobiuret          2700.000\n",
      "3797      5248709               AC1NRVFX        584000.000\n",
      "3798      5284557            ethisterone             0.687\n",
      "3799      6448437            Butenachlor            29.000\n",
      "3800     12395290          AGN-PC-0NIW76             0.044\n",
      "\n",
      "[3661 rows x 3 columns]\n"
     ]
    }
   ],
   "source": [
    "filtered_df = df[df.notnull().all(axis=1)]\n",
    "print(filtered_df)"
   ]
  },
  {
   "cell_type": "code",
   "execution_count": 8,
   "id": "7b499ea8-4f31-44c9-9083-48c8db38cc79",
   "metadata": {},
   "outputs": [
    {
     "name": "stdout",
     "output_type": "stream",
     "text": [
      "     pubchem_cid          chemical_name  exp_double_value\n",
      "0            790           hypoxanthine             700.0\n",
      "1           2474            Bupivacaine              91.7\n",
      "2           4062            mepivacaine            7000.0\n",
      "3           4421         nalidixic acid             100.0\n",
      "4           4649  4-Aminosalicylic acid            1690.0\n",
      "..           ...                    ...               ...\n",
      "226          867           malonic acid          763000.0\n",
      "227          875       DL-Tartaric acid          215000.0\n",
      "228          878           methanethiol           15400.0\n",
      "229          887               methanol         1000000.0\n",
      "230          904            Acetanilide            6390.0\n",
      "\n",
      "[225 rows x 3 columns]\n"
     ]
    }
   ],
   "source": [
    "filtered_df_cut =filtered_df[:225]\n",
    "print(filtered_df_cut)"
   ]
  },
  {
   "cell_type": "markdown",
   "id": "1feb79ea-6d8e-4cf1-a6b4-08edfab0323c",
   "metadata": {},
   "source": [
    "**For the purpose of the current project, I have cut the dataset into smaller subset in order to avoid network crashing.**"
   ]
  },
  {
   "cell_type": "markdown",
   "id": "e3b9201c-ec09-4c9f-8f35-b3424981b738",
   "metadata": {},
   "source": [
    "#### 4. Getting Properties of the compounds "
   ]
  },
  {
   "cell_type": "code",
   "execution_count": 9,
   "id": "3af57290-13d8-4b1f-93db-fc92bc614a19",
   "metadata": {},
   "outputs": [
    {
     "name": "stdout",
     "output_type": "stream",
     "text": [
      "The values of i and j are 217 8\n"
     ]
    }
   ],
   "source": [
    "# Getting Smiles and exact mol aweight of dataset\n",
    "i = 0\n",
    "j = 0\n",
    "new_data = []\n",
    "for chemical_name_1 in filtered_df_cut['chemical_name']:\n",
    "    cid=pcp.get_cids(chemical_name_1)\n",
    "    if cid == []:\n",
    "        filtered_df_cut.drop(i) \n",
    "        j = j + 1\n",
    "    else:\n",
    "        #print( \"The value of i and chemical name is :\", i ,\",\",cid, ',', chemical_name_1)\n",
    "        #prop = pcp.get_properties('CanonicalSMILES', cid)\n",
    "        prop_1 = pcp.get_properties(['MolecularWeight','XlogP','CanonicalSMILES'], cid, 'cid')\n",
    "        new_data.append(prop_1)\n",
    "    \n",
    "        i = i + 1\n",
    "print(\"The values of i and j are\", i, j)"
   ]
  },
  {
   "cell_type": "code",
   "execution_count": 10,
   "id": "d6a880f8-11b3-465a-9422-d4082aee3bf2",
   "metadata": {},
   "outputs": [
    {
     "data": {
      "text/plain": [
       "4"
      ]
     },
     "execution_count": 10,
     "metadata": {},
     "output_type": "execute_result"
    }
   ],
   "source": [
    "len(new_data[0][0].keys())"
   ]
  },
  {
   "cell_type": "code",
   "execution_count": 11,
   "id": "b94ee098-9d18-41a0-aa7b-162b323c6e29",
   "metadata": {},
   "outputs": [
    {
     "data": {
      "text/html": [
       "<div>\n",
       "<style scoped>\n",
       "    .dataframe tbody tr th:only-of-type {\n",
       "        vertical-align: middle;\n",
       "    }\n",
       "\n",
       "    .dataframe tbody tr th {\n",
       "        vertical-align: top;\n",
       "    }\n",
       "\n",
       "    .dataframe thead th {\n",
       "        text-align: right;\n",
       "    }\n",
       "</style>\n",
       "<table border=\"1\" class=\"dataframe\">\n",
       "  <thead>\n",
       "    <tr style=\"text-align: right;\">\n",
       "      <th></th>\n",
       "      <th>CID</th>\n",
       "      <th>MolecularWeight</th>\n",
       "      <th>CanonicalSMILES</th>\n",
       "      <th>XLogP</th>\n",
       "    </tr>\n",
       "  </thead>\n",
       "  <tbody>\n",
       "    <tr>\n",
       "      <th>0</th>\n",
       "      <td>135398638</td>\n",
       "      <td>136.11</td>\n",
       "      <td>C1=NC2=C(N1)C(=O)NC=N2</td>\n",
       "      <td>-0.5</td>\n",
       "    </tr>\n",
       "    <tr>\n",
       "      <th>1</th>\n",
       "      <td>2474</td>\n",
       "      <td>288.4</td>\n",
       "      <td>CCCCN1CCCCC1C(=O)NC2=C(C=CC=C2C)C</td>\n",
       "      <td>3.4</td>\n",
       "    </tr>\n",
       "    <tr>\n",
       "      <th>2</th>\n",
       "      <td>4062</td>\n",
       "      <td>246.35</td>\n",
       "      <td>CC1=C(C(=CC=C1)C)NC(=O)C2CCCCN2C</td>\n",
       "      <td>1.9</td>\n",
       "    </tr>\n",
       "    <tr>\n",
       "      <th>3</th>\n",
       "      <td>4421</td>\n",
       "      <td>232.23</td>\n",
       "      <td>CCN1C=C(C(=O)C2=C1N=C(C=C2)C)C(=O)O</td>\n",
       "      <td>1.4</td>\n",
       "    </tr>\n",
       "    <tr>\n",
       "      <th>4</th>\n",
       "      <td>4649</td>\n",
       "      <td>153.14</td>\n",
       "      <td>C1=CC(=C(C=C1N)O)C(=O)O</td>\n",
       "      <td>1.3</td>\n",
       "    </tr>\n",
       "  </tbody>\n",
       "</table>\n",
       "</div>"
      ],
      "text/plain": [
       "         CID MolecularWeight                      CanonicalSMILES  XLogP\n",
       "0  135398638          136.11               C1=NC2=C(N1)C(=O)NC=N2   -0.5\n",
       "1       2474           288.4    CCCCN1CCCCC1C(=O)NC2=C(C=CC=C2C)C    3.4\n",
       "2       4062          246.35     CC1=C(C(=CC=C1)C)NC(=O)C2CCCCN2C    1.9\n",
       "3       4421          232.23  CCN1C=C(C(=O)C2=C1N=C(C=C2)C)C(=O)O    1.4\n",
       "4       4649          153.14              C1=CC(=C(C=C1N)O)C(=O)O    1.3"
      ]
     },
     "execution_count": 11,
     "metadata": {},
     "output_type": "execute_result"
    }
   ],
   "source": [
    "rows = []\n",
    "columns = new_data[0][0].keys()\n",
    "for i in range(len(new_data)):\n",
    "    rows.append(new_data[i][0].values())\n",
    "props_df = pd.DataFrame(data=rows, columns=columns) \n",
    "props_df.head()"
   ]
  },
  {
   "cell_type": "code",
   "execution_count": 12,
   "id": "cd7a8d0e-4af5-432b-bc13-446c2de46fca",
   "metadata": {},
   "outputs": [
    {
     "name": "stdout",
     "output_type": "stream",
     "text": [
      "225\n"
     ]
    }
   ],
   "source": [
    "print(len(filtered_df_cut))"
   ]
  },
  {
   "cell_type": "code",
   "execution_count": 13,
   "id": "abf2f6fa-3dc3-49e8-935b-3f832b5b7fef",
   "metadata": {},
   "outputs": [
    {
     "data": {
      "text/html": [
       "<div>\n",
       "<style scoped>\n",
       "    .dataframe tbody tr th:only-of-type {\n",
       "        vertical-align: middle;\n",
       "    }\n",
       "\n",
       "    .dataframe tbody tr th {\n",
       "        vertical-align: top;\n",
       "    }\n",
       "\n",
       "    .dataframe thead th {\n",
       "        text-align: right;\n",
       "    }\n",
       "</style>\n",
       "<table border=\"1\" class=\"dataframe\">\n",
       "  <thead>\n",
       "    <tr style=\"text-align: right;\">\n",
       "      <th></th>\n",
       "      <th>pubchem_cid</th>\n",
       "      <th>chemical_name</th>\n",
       "      <th>exp_double_value</th>\n",
       "    </tr>\n",
       "  </thead>\n",
       "  <tbody>\n",
       "    <tr>\n",
       "      <th>0</th>\n",
       "      <td>790</td>\n",
       "      <td>hypoxanthine</td>\n",
       "      <td>700.0</td>\n",
       "    </tr>\n",
       "    <tr>\n",
       "      <th>1</th>\n",
       "      <td>2474</td>\n",
       "      <td>Bupivacaine</td>\n",
       "      <td>91.7</td>\n",
       "    </tr>\n",
       "    <tr>\n",
       "      <th>2</th>\n",
       "      <td>4062</td>\n",
       "      <td>mepivacaine</td>\n",
       "      <td>7000.0</td>\n",
       "    </tr>\n",
       "    <tr>\n",
       "      <th>3</th>\n",
       "      <td>4421</td>\n",
       "      <td>nalidixic acid</td>\n",
       "      <td>100.0</td>\n",
       "    </tr>\n",
       "    <tr>\n",
       "      <th>4</th>\n",
       "      <td>4649</td>\n",
       "      <td>4-Aminosalicylic acid</td>\n",
       "      <td>1690.0</td>\n",
       "    </tr>\n",
       "  </tbody>\n",
       "</table>\n",
       "</div>"
      ],
      "text/plain": [
       "   pubchem_cid          chemical_name  exp_double_value\n",
       "0          790           hypoxanthine             700.0\n",
       "1         2474            Bupivacaine              91.7\n",
       "2         4062            mepivacaine            7000.0\n",
       "3         4421         nalidixic acid             100.0\n",
       "4         4649  4-Aminosalicylic acid            1690.0"
      ]
     },
     "execution_count": 13,
     "metadata": {},
     "output_type": "execute_result"
    }
   ],
   "source": [
    "filtered_df_cut.head()"
   ]
  },
  {
   "cell_type": "code",
   "execution_count": 14,
   "id": "4f61b444-685c-4753-a920-3519c7439cc4",
   "metadata": {},
   "outputs": [
    {
     "name": "stdout",
     "output_type": "stream",
     "text": [
      "      CID          chemical_name  measured_sol\n",
      "0     790           hypoxanthine         700.0\n",
      "1    2474            Bupivacaine          91.7\n",
      "2    4062            mepivacaine        7000.0\n",
      "3    4421         nalidixic acid         100.0\n",
      "4    4649  4-Aminosalicylic acid        1690.0\n",
      "..    ...                    ...           ...\n",
      "226   867           malonic acid      763000.0\n",
      "227   875       DL-Tartaric acid      215000.0\n",
      "228   878           methanethiol       15400.0\n",
      "229   887               methanol     1000000.0\n",
      "230   904            Acetanilide        6390.0\n",
      "\n",
      "[225 rows x 3 columns]\n"
     ]
    },
    {
     "name": "stderr",
     "output_type": "stream",
     "text": [
      "/tmp/ipykernel_10109/344487829.py:3: SettingWithCopyWarning: \n",
      "A value is trying to be set on a copy of a slice from a DataFrame\n",
      "\n",
      "See the caveats in the documentation: https://pandas.pydata.org/pandas-docs/stable/user_guide/indexing.html#returning-a-view-versus-a-copy\n",
      "  filtered_df_cut.rename(columns={'pubchem_cid': 'CID',  'exp_double_value': 'measured_sol'}, inplace=True)\n"
     ]
    }
   ],
   "source": [
    "# Renaming columns\n",
    "\n",
    "filtered_df_cut.rename(columns={'pubchem_cid': 'CID',  'exp_double_value': 'measured_sol'}, inplace=True)\n",
    "print(filtered_df_cut)"
   ]
  },
  {
   "cell_type": "code",
   "execution_count": 15,
   "id": "668ced83-8420-4e4c-8a80-3d4dffe2f991",
   "metadata": {},
   "outputs": [
    {
     "name": "stdout",
     "output_type": "stream",
     "text": [
      "           CID          chemical_name  measured_sol MolecularWeight  \\\n",
      "0    135398638                    NaN           NaN          136.11   \n",
      "1         2474            Bupivacaine          91.7           288.4   \n",
      "2         4062            mepivacaine        7000.0          246.35   \n",
      "3         4421         nalidixic acid         100.0          232.23   \n",
      "4         4649  4-Aminosalicylic acid        1690.0          153.14   \n",
      "..         ...                    ...           ...             ...   \n",
      "212        867           malonic acid      763000.0          104.06   \n",
      "213        875       DL-Tartaric acid      215000.0          150.09   \n",
      "214        878           methanethiol       15400.0           48.11   \n",
      "215        887               methanol     1000000.0          32.042   \n",
      "216        904            Acetanilide        6390.0          135.16   \n",
      "\n",
      "                         CanonicalSMILES  XLogP  \n",
      "0                 C1=NC2=C(N1)C(=O)NC=N2   -0.5  \n",
      "1      CCCCN1CCCCC1C(=O)NC2=C(C=CC=C2C)C    3.4  \n",
      "2       CC1=C(C(=CC=C1)C)NC(=O)C2CCCCN2C    1.9  \n",
      "3    CCN1C=C(C(=O)C2=C1N=C(C=C2)C)C(=O)O    1.4  \n",
      "4                C1=CC(=C(C=C1N)O)C(=O)O    1.3  \n",
      "..                                   ...    ...  \n",
      "212                      C(C(=O)O)C(=O)O   -0.8  \n",
      "213               C(C(C(=O)O)O)(C(=O)O)O   -1.9  \n",
      "214                                   CS    0.5  \n",
      "215                                   CO   -0.5  \n",
      "216                   CC(=O)NC1=CC=CC=C1    1.2  \n",
      "\n",
      "[217 rows x 6 columns]\n"
     ]
    }
   ],
   "source": [
    "# Calling merge() function \n",
    "int_df = pd.merge(filtered_df_cut, props_df, how ='right', on =['CID'])\n",
    "print(int_df)"
   ]
  },
  {
   "cell_type": "code",
   "execution_count": 16,
   "id": "7d240c43-e701-47f5-8b48-5db666ff1cd8",
   "metadata": {},
   "outputs": [
    {
     "name": "stdout",
     "output_type": "stream",
     "text": [
      "<class 'pandas.core.frame.DataFrame'>\n",
      "Index: 196 entries, 1 to 216\n",
      "Data columns (total 6 columns):\n",
      " #   Column           Non-Null Count  Dtype  \n",
      "---  ------           --------------  -----  \n",
      " 0   CID              196 non-null    int64  \n",
      " 1   chemical_name    196 non-null    object \n",
      " 2   measured_sol     196 non-null    float64\n",
      " 3   MolecularWeight  196 non-null    object \n",
      " 4   CanonicalSMILES  196 non-null    object \n",
      " 5   XLogP            196 non-null    float64\n",
      "dtypes: float64(2), int64(1), object(3)\n",
      "memory usage: 10.7+ KB\n"
     ]
    }
   ],
   "source": [
    "df_filtered = int_df.dropna()\n",
    "df_filtered.info()"
   ]
  },
  {
   "cell_type": "markdown",
   "id": "3ade028c-9196-4007-9781-168d524d15a7",
   "metadata": {},
   "source": [
    "#### 5.  Getting the log Solubility values in terms of mol/L"
   ]
  },
  {
   "cell_type": "code",
   "execution_count": 17,
   "id": "be3fa01f-62a7-4544-a995-b10d163db4fe",
   "metadata": {},
   "outputs": [
    {
     "name": "stdout",
     "output_type": "stream",
     "text": [
      "1           91.7\n",
      "2         7000.0\n",
      "3          100.0\n",
      "4         1690.0\n",
      "5           12.0\n",
      "         ...    \n",
      "212     763000.0\n",
      "213     215000.0\n",
      "214      15400.0\n",
      "215    1000000.0\n",
      "216       6390.0\n",
      "Name: measured_sol, Length: 196, dtype: float64\n",
      "1      288.400\n",
      "2      246.350\n",
      "3      232.230\n",
      "4      153.140\n",
      "5      290.400\n",
      "        ...   \n",
      "212    104.060\n",
      "213    150.090\n",
      "214     48.110\n",
      "215     32.042\n",
      "216    135.160\n",
      "Name: MolecularWeight, Length: 196, dtype: float64\n"
     ]
    },
    {
     "name": "stderr",
     "output_type": "stream",
     "text": [
      "/tmp/ipykernel_10109/425087786.py:2: SettingWithCopyWarning: \n",
      "A value is trying to be set on a copy of a slice from a DataFrame.\n",
      "Try using .loc[row_indexer,col_indexer] = value instead\n",
      "\n",
      "See the caveats in the documentation: https://pandas.pydata.org/pandas-docs/stable/user_guide/indexing.html#returning-a-view-versus-a-copy\n",
      "  df_filtered.MolecularWeight = df_filtered.MolecularWeight.astype(float)\n"
     ]
    }
   ],
   "source": [
    "print( df_filtered.measured_sol)\n",
    "df_filtered.MolecularWeight = df_filtered.MolecularWeight.astype(float)\n",
    "print( df_filtered.MolecularWeight)"
   ]
  },
  {
   "cell_type": "code",
   "execution_count": 18,
   "id": "10782618-c863-41ba-a8bf-2cbc51f6d458",
   "metadata": {},
   "outputs": [
    {
     "name": "stdout",
     "output_type": "stream",
     "text": [
      "Natural logarithm of 14 is : 2.6390573296152584\n",
      "1       0.000318\n",
      "2       0.028415\n",
      "3       0.000431\n",
      "4       0.011036\n",
      "5       0.000041\n",
      "         ...    \n",
      "212     7.332308\n",
      "213     1.432474\n",
      "214     0.320100\n",
      "215    31.209038\n",
      "216     0.047277\n",
      "Length: 196, dtype: float64\n"
     ]
    },
    {
     "data": {
      "text/html": [
       "<div>\n",
       "<style scoped>\n",
       "    .dataframe tbody tr th:only-of-type {\n",
       "        vertical-align: middle;\n",
       "    }\n",
       "\n",
       "    .dataframe tbody tr th {\n",
       "        vertical-align: top;\n",
       "    }\n",
       "\n",
       "    .dataframe thead th {\n",
       "        text-align: right;\n",
       "    }\n",
       "</style>\n",
       "<table border=\"1\" class=\"dataframe\">\n",
       "  <thead>\n",
       "    <tr style=\"text-align: right;\">\n",
       "      <th></th>\n",
       "      <th>CID</th>\n",
       "      <th>chemical_name</th>\n",
       "      <th>measured_sol</th>\n",
       "      <th>MolecularWeight</th>\n",
       "      <th>CanonicalSMILES</th>\n",
       "      <th>XLogP</th>\n",
       "      <th>log_sol</th>\n",
       "    </tr>\n",
       "  </thead>\n",
       "  <tbody>\n",
       "    <tr>\n",
       "      <th>1</th>\n",
       "      <td>2474</td>\n",
       "      <td>Bupivacaine</td>\n",
       "      <td>91.7</td>\n",
       "      <td>288.40</td>\n",
       "      <td>CCCCN1CCCCC1C(=O)NC2=C(C=CC=C2C)C</td>\n",
       "      <td>3.4</td>\n",
       "      <td>-3.497626</td>\n",
       "    </tr>\n",
       "    <tr>\n",
       "      <th>2</th>\n",
       "      <td>4062</td>\n",
       "      <td>mepivacaine</td>\n",
       "      <td>7000.0</td>\n",
       "      <td>246.35</td>\n",
       "      <td>CC1=C(C(=CC=C1)C)NC(=O)C2CCCCN2C</td>\n",
       "      <td>1.9</td>\n",
       "      <td>-1.546455</td>\n",
       "    </tr>\n",
       "    <tr>\n",
       "      <th>3</th>\n",
       "      <td>4421</td>\n",
       "      <td>nalidixic acid</td>\n",
       "      <td>100.0</td>\n",
       "      <td>232.23</td>\n",
       "      <td>CCN1C=C(C(=O)C2=C1N=C(C=C2)C)C(=O)O</td>\n",
       "      <td>1.4</td>\n",
       "      <td>-3.365918</td>\n",
       "    </tr>\n",
       "    <tr>\n",
       "      <th>4</th>\n",
       "      <td>4649</td>\n",
       "      <td>4-Aminosalicylic acid</td>\n",
       "      <td>1690.0</td>\n",
       "      <td>153.14</td>\n",
       "      <td>C1=CC(=C(C=C1N)O)C(=O)O</td>\n",
       "      <td>1.3</td>\n",
       "      <td>-1.957202</td>\n",
       "    </tr>\n",
       "    <tr>\n",
       "      <th>5</th>\n",
       "      <td>5879</td>\n",
       "      <td>androsterone</td>\n",
       "      <td>12.0</td>\n",
       "      <td>290.40</td>\n",
       "      <td>CC12CCC(CC1CCC3C2CCC4(C3CCC4=O)C)O</td>\n",
       "      <td>3.7</td>\n",
       "      <td>-4.383815</td>\n",
       "    </tr>\n",
       "  </tbody>\n",
       "</table>\n",
       "</div>"
      ],
      "text/plain": [
       "    CID          chemical_name  measured_sol  MolecularWeight  \\\n",
       "1  2474            Bupivacaine          91.7           288.40   \n",
       "2  4062            mepivacaine        7000.0           246.35   \n",
       "3  4421         nalidixic acid         100.0           232.23   \n",
       "4  4649  4-Aminosalicylic acid        1690.0           153.14   \n",
       "5  5879           androsterone          12.0           290.40   \n",
       "\n",
       "                       CanonicalSMILES  XLogP   log_sol  \n",
       "1    CCCCN1CCCCC1C(=O)NC2=C(C=CC=C2C)C    3.4 -3.497626  \n",
       "2     CC1=C(C(=CC=C1)C)NC(=O)C2CCCCN2C    1.9 -1.546455  \n",
       "3  CCN1C=C(C(=O)C2=C1N=C(C=C2)C)C(=O)O    1.4 -3.365918  \n",
       "4              C1=CC(=C(C=C1N)O)C(=O)O    1.3 -1.957202  \n",
       "5   CC12CCC(CC1CCC3C2CCC4(C3CCC4=O)C)O    3.7 -4.383815  "
      ]
     },
     "execution_count": 18,
     "metadata": {},
     "output_type": "execute_result"
    }
   ],
   "source": [
    "import numpy as np\n",
    "import math\n",
    "\n",
    "# Printing the log base e (natural log) -- Example\n",
    "print (\"Natural logarithm of 14 is : \", end=\"\")\n",
    "print (math.log(14))\n",
    "\n",
    "x = ((df_filtered.measured_sol.astype(float)) / (df_filtered.MolecularWeight.astype(float)) / 1000)\n",
    "print(x)\n",
    "df_filtered = df_filtered.assign(log_sol = (np.log10(x)))\n",
    "df_filtered.head()"
   ]
  },
  {
   "cell_type": "code",
   "execution_count": 19,
   "id": "8137e17d-c48b-4c9f-96dd-c367bd105f50",
   "metadata": {},
   "outputs": [
    {
     "data": {
      "text/plain": [
       "RangeIndex(start=0, stop=3, step=1)"
      ]
     },
     "execution_count": 19,
     "metadata": {},
     "output_type": "execute_result"
    }
   ],
   "source": [
    "# Writing data to .csv files\n",
    "data_smiles = pd.DataFrame(zip(df_filtered.CID, df_filtered.CanonicalSMILES, df_filtered.log_sol))\n",
    "data_smiles.columns\n"
   ]
  },
  {
   "cell_type": "markdown",
   "id": "75a55c19-6a36-410d-a8fa-50849a92c1e6",
   "metadata": {},
   "source": [
    "#### 6. Writing the Details in the form of data file"
   ]
  },
  {
   "cell_type": "code",
   "execution_count": 20,
   "id": "f9d46025-1ee9-4b1d-9eb4-eba1d2190982",
   "metadata": {},
   "outputs": [
    {
     "name": "stdout",
     "output_type": "stream",
     "text": [
      "      CID                      CanonicalSMILES   log_sol\n",
      "1    2474    CCCCN1CCCCC1C(=O)NC2=C(C=CC=C2C)C -3.497626\n",
      "2    4062     CC1=C(C(=CC=C1)C)NC(=O)C2CCCCN2C -1.546455\n",
      "3    4421  CCN1C=C(C(=O)C2=C1N=C(C=C2)C)C(=O)O -3.365918\n",
      "4    4649              C1=CC(=C(C=C1N)O)C(=O)O -1.957202\n",
      "5    5879   CC12CCC(CC1CCC3C2CCC4(C3CCC4=O)C)O -4.383815\n",
      "..    ...                                  ...       ...\n",
      "212   867                      C(C(=O)O)C(=O)O  0.865241\n",
      "213   875               C(C(C(=O)O)O)(C(=O)O)O  0.156087\n",
      "214   878                                   CS -0.494715\n",
      "215   887                                   CO  1.494280\n",
      "216   904                   CC(=O)NC1=CC=CC=C1 -1.325347\n",
      "\n",
      "[196 rows x 3 columns]\n"
     ]
    }
   ],
   "source": [
    "def select_columns(data_frame, column_names):\n",
    "    new_frame = data_frame.loc[:, column_names]\n",
    "    return new_frame\n",
    "\n",
    "selected_columns = ['CID','CanonicalSMILES', 'log_sol']\n",
    "new_smiles = select_columns(df_filtered, selected_columns)\n",
    "print(new_smiles)"
   ]
  },
  {
   "cell_type": "code",
   "execution_count": 21,
   "id": "9a22c2f5-4d07-4274-80b1-39b8ff96c726",
   "metadata": {},
   "outputs": [],
   "source": [
    "df = pd.DataFrame(new_smiles)\n",
    "df.to_csv('smiles_logSol_viridis.csv', header=True, index=False)"
   ]
  },
  {
   "cell_type": "markdown",
   "id": "0f285e47-737b-48a0-a2fa-acfe9cea054b",
   "metadata": {},
   "source": [
    "#### 7. Glossary PubChemPy "
   ]
  },
  {
   "cell_type": "code",
   "execution_count": 19,
   "id": "18c11869-dc7e-4118-82cd-f75b2df69baa",
   "metadata": {},
   "outputs": [
    {
     "data": {
      "text/plain": [
       "[Compound(1318)]"
      ]
     },
     "execution_count": 19,
     "metadata": {},
     "output_type": "execute_result"
    }
   ],
   "source": [
    "pcp.get_compounds('C1=CC2=C(C3=C(C=CC=N3)C=C2)N=C1', 'smiles')"
   ]
  },
  {
   "cell_type": "code",
   "execution_count": 20,
   "id": "e6524318-09ed-4a25-886b-57a876292336",
   "metadata": {},
   "outputs": [
    {
     "data": {
      "text/plain": [
       "{'atoms': [{'aid': 1, 'number': 8, 'element': 'O', 'x': 2.5369, 'y': -0.155},\n",
       "  {'aid': 2, 'number': 1, 'element': 'H', 'x': 3.0739, 'y': 0.155},\n",
       "  {'aid': 3, 'number': 1, 'element': 'H', 'x': 2, 'y': 0.155}],\n",
       " 'bonds': [{'aid1': 1, 'aid2': 2, 'order': 1},\n",
       "  {'aid1': 1, 'aid2': 3, 'order': 1}],\n",
       " 'inchi': 'InChI=1S/H2O/h1H2'}"
      ]
     },
     "execution_count": 20,
     "metadata": {},
     "output_type": "execute_result"
    }
   ],
   "source": [
    "c = pcp.Compound.from_cid(962)\n",
    "c.to_dict(properties=['atoms', 'bonds', 'inchi'])"
   ]
  },
  {
   "cell_type": "code",
   "execution_count": 21,
   "id": "05dd3ecc-d005-4103-9a9f-bd09ee180bd2",
   "metadata": {},
   "outputs": [],
   "source": [
    "p = pcp.get_properties('IsomericSMILES', 'CC', 'smiles', searchtype='superstructure')"
   ]
  },
  {
   "cell_type": "code",
   "execution_count": 27,
   "id": "b14e6f78-2e04-4f03-ae95-8f0e4bc5cf3f",
   "metadata": {},
   "outputs": [],
   "source": [
    "prop = pcp.get_properties(['MolecularFormula', 'MolecularWeight', 'CanonicalSMILES', 'IsomericSMILES',\n",
    "'InChI', 'InChIKey', 'IUPACName'],'CN1N=C(C=C1C(F)(F)F)C1=CC=C(S1)C1=CC=NC(SCC(=O)NC2=CC=C(Cl)C=C2)=N1', 'smiles')\n",
    "print(type(prop))\n",
    "print(prop)"
   ]
  },
  {
   "cell_type": "code",
   "execution_count": null,
   "id": "86ec8379-9256-4bfe-b2a0-1134e97ce97a",
   "metadata": {},
   "outputs": [],
   "source": [
    "data = []\n",
    "\n",
    "for chemical_name in df['chemical_name']:\n",
    "    props = pcp.get_properties(['MolecularFormula', 'MolecularWeight','InChI', 'InChIKey', 'IUPACName', \n",
    "                                'XLogP', 'ExactMass', 'MonoisotopicMass', 'TPSA', 'Complexity', 'Charge', \n",
    "                                'HBondDonorCount', 'HBondAcceptorCount', 'RotatableBondCount', \n",
    "                                'HeavyAtomCount', 'IsotopeAtomCount', 'AtomStereoCount', \n",
    "                                'DefinedAtomStereoCount', 'UndefinedAtomStereoCount', 'BondStereoCount', \n",
    "                                'DefinedBondStereoCount', 'UndefinedBondStereoCount', 'CovalentUnitCount', \n",
    "                                'Volume3D', 'XStericQuadrupole3D', 'YStericQuadrupole3D', \n",
    "                                'ZStericQuadrupole3D', 'FeatureCount3D', 'FeatureAcceptorCount3D', \n",
    "                                'FeatureDonorCount3D', 'FeatureAnionCount3D', 'FeatureCationCount3D', \n",
    "                                'FeatureRingCount3D', 'FeatureHydrophobeCount3D', 'ConformerModelRMSD3D', \n",
    "                                'EffectiveRotorCount3D', 'ConformerCount3D'], cid, 'cid')\n",
    "    data.append(props)\n",
    "#data"
   ]
  },
  {
   "cell_type": "code",
   "execution_count": null,
   "id": "314aba99-67ab-4ba6-9764-ec67beaff3ff",
   "metadata": {},
   "outputs": [],
   "source": [
    "cid,\n",
    "cid_name,\n",
    "XlogP,\n",
    "Complexity,\n",
    "MolecularWeight,\n",
    "HBondDonorCount, \n",
    "HBondAcceptorCount,\n",
    "FeatureRingCount3D, \n",
    "RotatableBondCount,\n",
    "Volume3D,\n",
    "Measured,\n",
    "Smiles"
   ]
  }
 ],
 "metadata": {
  "kernelspec": {
   "display_name": "Python 3 (ipykernel)",
   "language": "python",
   "name": "python3"
  },
  "language_info": {
   "codemirror_mode": {
    "name": "ipython",
    "version": 3
   },
   "file_extension": ".py",
   "mimetype": "text/x-python",
   "name": "python",
   "nbconvert_exporter": "python",
   "pygments_lexer": "ipython3",
   "version": "3.10.12"
  }
 },
 "nbformat": 4,
 "nbformat_minor": 5
}
